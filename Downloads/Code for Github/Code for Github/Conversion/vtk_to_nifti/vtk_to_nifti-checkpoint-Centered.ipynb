{
 "cells": [
  {
   "cell_type": "markdown",
   "metadata": {},
   "source": [
    "# Convert VTK surface segmentation files to NIfTI image masks"
   ]
  },
  {
   "cell_type": "code",
   "execution_count": 1,
   "metadata": {},
   "outputs": [],
   "source": [
    "import os.path\n",
    "import pandas as pd\n",
    "import sys\n",
    "import vtk\n",
    "\n",
    "import vtk2image_Centered"
   ]
  },
  {
   "cell_type": "markdown",
   "metadata": {},
   "source": [
    "## Setup the input data"
   ]
  },
  {
   "cell_type": "code",
   "execution_count": 2,
   "metadata": {},
   "outputs": [],
   "source": [
    "df_valid = pd.read_csv(\"/Users/williamengelhardt/Documents/Yale_Lab_Summer/conversion/image_path1.csv\")"
   ]
  },
  {
   "cell_type": "code",
   "execution_count": 3,
   "metadata": {},
   "outputs": [],
   "source": [
    "df_valid['ACCESSION_ID'] = df_valid['ACCESSION_ID'].apply(str)"
   ]
  },
  {
   "cell_type": "markdown",
   "metadata": {},
   "source": [
    "## Convert the segms to masks"
   ]
  },
  {
   "cell_type": "code",
   "execution_count": 4,
   "metadata": {},
   "outputs": [],
   "source": [
    "OUTPUT_PATH = '/Users/williamengelhardt/Documents/Yale_Lab_Summer/conversion/test'"
   ]
  },
  {
   "cell_type": "code",
   "execution_count": 5,
   "metadata": {},
   "outputs": [
    {
     "name": "stdout",
     "output_type": "stream",
     "text": [
      "Creating mask file: /Users/williamengelhardt/Documents/Yale_Lab_Summer/conversion/test/5/liver_mask_total_5.nii.gz\n",
      "VTK file has 9630 points\n",
      "NIfTI file has dims = (320, 250, 80)\n",
      "NIfTI file has dims = (1, 1, 1)\n",
      "Creating mask file: /Users/williamengelhardt/Documents/Yale_Lab_Summer/conversion/test/6/liver_mask_total_6.nii.gz\n",
      "VTK file has 4846 points\n",
      "NIfTI file has dims = (512, 512, 121)\n",
      "NIfTI file has dims = (1, 1, 1)\n",
      "Creating mask file: /Users/williamengelhardt/Documents/Yale_Lab_Summer/conversion/test/25/liver_mask_total_25.nii.gz\n",
      "VTK file has 11832 points\n",
      "NIfTI file has dims = (320, 280, 80)\n",
      "NIfTI file has dims = (1, 1, 1)\n",
      "Creating mask file: /Users/williamengelhardt/Documents/Yale_Lab_Summer/conversion/test/28/liver_mask_total_28.nii.gz\n",
      "VTK file has 11880 points\n",
      "NIfTI file has dims = (512, 512, 86)\n",
      "NIfTI file has dims = (1, 1, 1)\n",
      "Creating mask file: /Users/williamengelhardt/Documents/Yale_Lab_Summer/conversion/test/29/liver_mask_total_29.nii.gz\n",
      "VTK file has 9562 points\n",
      "NIfTI file has dims = (512, 512, 100)\n",
      "NIfTI file has dims = (1, 1, 1)\n",
      "Creating mask file: /Users/williamengelhardt/Documents/Yale_Lab_Summer/conversion/test/30/liver_mask_total_30.nii.gz\n",
      "VTK file has 8428 points\n",
      "NIfTI file has dims = (512, 512, 130)\n",
      "NIfTI file has dims = (1, 1, 1)\n",
      "Finished performing 6 conversions this run\n"
     ]
    }
   ],
   "source": [
    "count = 0\n",
    "\n",
    "for idx, row in df_valid.iterrows():\n",
    "\n",
    "    output_path = os.path.join(OUTPUT_PATH,row['ACCESSION_ID'])\n",
    "    if not os.path.exists(output_path):\n",
    "        os.mkdir(output_path)\n",
    "    \n",
    "    input_file_name = os.path.split(row['SEGM_PATH'])[-1]\n",
    "    input_file_root = os.path.splitext(input_file_name)[0]\n",
    "    output_file_name = os.path.join(output_path,'%s.nii.gz' % (input_file_root))\n",
    "    print('Creating mask file: %s' % output_file_name)\n",
    "    \n",
    "    if not os.path.exists(output_file_name):\n",
    "\n",
    "        surf_reader = vtk.vtkPolyDataReader()\n",
    "        surf_reader.SetFileName(row['SEGM_PATH'])\n",
    "        surf_reader.Update()\n",
    "\n",
    "        vtk_surface = vtk.vtkPolyData()\n",
    "        vtk_surface.ShallowCopy(surf_reader.GetOutput())\n",
    "        print('VTK file has %d points' % (vtk_surface.GetNumberOfPoints()))\n",
    "\n",
    "        image_reader = vtk.vtkNIFTIImageReader()\n",
    "        image_reader.SetFileName(row['IMAGE_PATH'])\n",
    "        image_reader.Update()\n",
    "\n",
    "        vtk_image = vtk.vtkImageData()\n",
    "        vtk_image.ShallowCopy(image_reader.GetOutput())\n",
    "        print('NIfTI file has dims = %s' % str(vtk_image.GetDimensions()))\n",
    "\n",
    "        image_mask = vtk2image_Centered.convert(vtk_surface, vtk_image)\n",
    "\n",
    "        writer = vtk.vtkNIFTIImageWriter()\n",
    "        writer.SetInputData(image_mask)\n",
    "        writer.SetFileName(output_file_name)\n",
    "        writer.Update()\n",
    "        \n",
    "        count += 1\n",
    "    else:\n",
    "        print('File already exists, skipping...')\n",
    "        \n",
    "print('Finished performing %d conversions this run' % count)\n",
    "    "
   ]
  },
  {
   "cell_type": "code",
   "execution_count": null,
   "metadata": {},
   "outputs": [],
   "source": []
  }
 ],
 "metadata": {
  "kernelspec": {
   "display_name": "Python 3",
   "language": "python",
   "name": "python3"
  },
  "language_info": {
   "codemirror_mode": {
    "name": "ipython",
    "version": 3
   },
   "file_extension": ".py",
   "mimetype": "text/x-python",
   "name": "python",
   "nbconvert_exporter": "python",
   "pygments_lexer": "ipython3",
   "version": "3.7.6"
  }
 },
 "nbformat": 4,
 "nbformat_minor": 4
}
