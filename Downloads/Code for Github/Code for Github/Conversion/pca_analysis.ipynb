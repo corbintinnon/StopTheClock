{
 "cells": [
  {
   "cell_type": "code",
   "execution_count": null,
   "metadata": {},
   "outputs": [],
   "source": [
    "import os\n",
    "import sys\n",
    "import vtk\n",
    "import numpy as np\n",
    "import pandas as pd\n",
    "import numpy as np\n",
    "from vtk.util import numpy_support as vn\n",
    "from sklearn.decomposition import PCA\n",
    "import seaborn as sns\n",
    "import open3d as o3d\n",
    "sys.path.append(\"/Users/williamengelhardt/OneDrive/Yale_Lab_Summer/updatedCode\")\n",
    "import Visualize_Linear_Transform as vis"
   ]
  },
  {
   "cell_type": "markdown",
   "metadata": {},
   "source": [
    "## Packages"
   ]
  },
  {
   "cell_type": "code",
   "execution_count": null,
   "metadata": {},
   "outputs": [],
   "source": [
    "def readFile(inputPath,fileName):\n",
    "    inputFile = os.path.join(inputPath, fileName)\n",
    "    if not os.path.exists(inputFile):\n",
    "        return fileName\n",
    "    reader = vtk.vtkPolyDataReader()\n",
    "    reader.SetFileName(inputFile)\n",
    "    reader.Update()\n",
    "    polydata = reader.GetOutput()\n",
    "    return polydata"
   ]
  },
  {
   "cell_type": "code",
   "execution_count": null,
   "metadata": {},
   "outputs": [],
   "source": [
    "def writeFile(combined,output_file_name):\n",
    "    writer = vtk.vtkPolyDataWriter()\n",
    "    writer.SetInputData(combined)\n",
    "    writer.SetFileName(output_file_name)\n",
    "    writer.Update()"
   ]
  },
  {
   "cell_type": "code",
   "execution_count": null,
   "metadata": {},
   "outputs": [],
   "source": [
    "#allows to store VTKs for later use\n",
    "class store(object):\n",
    "    def __init__(self, number):\n",
    "        self.number = number"
   ]
  },
  {
   "cell_type": "code",
   "execution_count": null,
   "metadata": {},
   "outputs": [],
   "source": [
    "#change input path, output path doesn't matter unless you are exporting the csv\n",
    "INPUT_PATH = \"/Users/williamengelhardt/OneDrive/Yale_Lab_Summer/data/nonlinear_from_ref\"\n",
    "OUTPUT_PATH = \"/Users/williamengelhardt/OneDrive/Yale_Lab_Summer/updatedCode/Machine Learning\""
   ]
  },
  {
   "cell_type": "markdown",
   "metadata": {},
   "source": [
    "# PCA"
   ]
  },
  {
   "cell_type": "markdown",
   "metadata": {},
   "source": [
    "## Diff btwn Base and Ref"
   ]
  },
  {
   "cell_type": "code",
   "execution_count": null,
   "metadata": {},
   "outputs": [],
   "source": [
    "#read in reference\n",
    "totalRef = readFile(INPUT_PATH,\"a_17_total_trans_pre.vtk\")\n",
    "pointsTotalRef = vn.vtk_to_numpy(totalRef.GetPoints().GetData())\n",
    "flrRef = readFile(INPUT_PATH,\"a_17_flr_trans_pre.vtk\")\n",
    "pointsFLRRef = vn.vtk_to_numpy(flrRef.GetPoints().GetData())"
   ]
  },
  {
   "cell_type": "code",
   "execution_count": null,
   "metadata": {},
   "outputs": [],
   "source": [
    "#get number of total and flr files\n",
    "totalNum = 0\n",
    "flrNum = 0\n",
    "for f in os.listdir(INPUT_PATH):\n",
    "    if f.split('_')[2] == 'total':\n",
    "        totalNum += 1\n",
    "    elif f.split('_')[2] == 'flr':\n",
    "        flrNum += 1\n",
    "    else:\n",
    "        print(\"Filename %s is not in correct format\" %f)\n",
    "        \n",
    "print(\"Total sections found: %i\" %totalNum)\n",
    "print(\"FLR sections found: %i\" %flrNum)"
   ]
  },
  {
   "cell_type": "code",
   "execution_count": null,
   "metadata": {
    "scrolled": true
   },
   "outputs": [],
   "source": [
    "VTK_total = []\n",
    "VTK_flr = []\n",
    "pointsTotalDiffFlat = np.zeros((totalNum,np.size(pointsTotalRef)))\n",
    "pointsFLRDiffFlat = np.zeros((flrNum,np.size(pointsFLRRef)))\n",
    "patientTotalNum = np.zeros(totalNum, dtype='<U4')\n",
    "patientFLRNum = np.zeros(flrNum, dtype='<U4')\n",
    "totalCount = 0\n",
    "flrCount = 0\n",
    "\n",
    "for filename in os.listdir(INPUT_PATH):\n",
    "    \n",
    "    myVTK = readFile(INPUT_PATH,filename)\n",
    "    nameArray = filename.split('_')\n",
    "    \n",
    "    if nameArray[1] == 17 and nameArray[0] == 'a':\n",
    "        print(\"Skipping reference image\")\n",
    "        continue\n",
    "        \n",
    "    print('Looking at institution %s, patient %s, %s'\n",
    "          %(nameArray[0], nameArray[1], nameArray[2]))\n",
    "    \n",
    "    if nameArray[2] == 'total':\n",
    "        VTK_total.append(store(myVTK))\n",
    "        pointsBase = vn.vtk_to_numpy(myVTK.GetPoints().GetData())\n",
    "        pointsDiff = pointsBase - pointsTotalRef\n",
    "        pointsTotalDiffFlat[totalCount] = np.ndarray.flatten(pointsDiff)\n",
    "        patientTotalNum[totalCount] = nameArray[0]+'_'+nameArray[1]\n",
    "        totalCount += 1\n",
    "    elif nameArray[2] == 'flr':\n",
    "        VTK_flr.append(store(myVTK))\n",
    "        pointsBase1 = vn.vtk_to_numpy(myVTK.GetPoints().GetData())\n",
    "        pointsDiff1 = pointsBase1 - pointsFLRRef\n",
    "        pointsFLRDiffFlat[flrCount] = np.ndarray.flatten(pointsDiff1)\n",
    "        patientFLRNum[flrCount] = nameArray[0]+'_'+nameArray[1]\n",
    "        flrCount += 1\n",
    "    \n",
    "    \n",
    "print('Finished reading %d patients this run' % (totalCount+flrCount))\n",
    "pointsTotalDiffFlat = pointsTotalDiffFlat[:totalCount]\n",
    "pointsFLRDiffFlat = pointsFLRDiffFlat[:flrCount]\n",
    "patientTotalNum = patientTotalNum[:totalCount]\n",
    "patientFLRNum = patientFLRNum[:flrCount]\n"
   ]
  },
  {
   "cell_type": "code",
   "execution_count": null,
   "metadata": {},
   "outputs": [],
   "source": [
    "#change this to switch looking at total or flr\n",
    "useTotal = False #false means use flr\n",
    "if useTotal:\n",
    "    pointsFlat = pointsTotalDiffFlat\n",
    "    patientNum = patientTotalNum\n",
    "    csvName = \"pca_total.csv\"\n",
    "    refPoints = pointsTotalRef\n",
    "    ref = totalRef\n",
    "    count = totalCount\n",
    "    VTK_base = VTK_total\n",
    "else:\n",
    "    pointsFlat = pointsFLRDiffFlat\n",
    "    patientNum = patientFLRNum\n",
    "    csvName = \"pca_flr.csv\"\n",
    "    refPoints = pointsFLRRef\n",
    "    ref = flrRef\n",
    "    count = flrCount\n",
    "    VTK_base = VTK_flr"
   ]
  },
  {
   "cell_type": "code",
   "execution_count": null,
   "metadata": {},
   "outputs": [],
   "source": [
    "data = pointsFlat.T\n",
    "pca = PCA()\n",
    "pc = pca.fit_transform(data)\n",
    "print(pca.explained_variance_ratio_)"
   ]
  },
  {
   "cell_type": "code",
   "execution_count": null,
   "metadata": {},
   "outputs": [],
   "source": [
    "p = pca.explained_variance_ratio_\n",
    "sum(p[0:71])"
   ]
  },
  {
   "cell_type": "code",
   "execution_count": null,
   "metadata": {},
   "outputs": [],
   "source": [
    "pc_df = pd.DataFrame(pc[::,:3],columns = [\"PC1\",\"PC2\",\"PC3\"])\n",
    "sns.lmplot( x=\"PC1\", y=\"PC2\",data=pc_df, fit_reg=False, legend=True, scatter_kws={\"s\": 0.5})"
   ]
  },
  {
   "cell_type": "code",
   "execution_count": null,
   "metadata": {},
   "outputs": [],
   "source": [
    "loadings = pca.components_.T\n",
    "columnsPC = []\n",
    "for i in range(np.size(loadings,axis=0)):\n",
    "    columnsPC.append(\"PC%s\"%(i+1))\n",
    "loading_matrix = pd.DataFrame(loadings,index=patientNum,columns=columnsPC)\n",
    "loading_matrix"
   ]
  },
  {
   "cell_type": "code",
   "execution_count": null,
   "metadata": {},
   "outputs": [],
   "source": [
    "#uncomment to write csv file\n",
    "outputCSV = os.path.join(OUTPUT_PATH, csvName)\n",
    "loading_matrix.to_csv(outputCSV)"
   ]
  },
  {
   "cell_type": "markdown",
   "metadata": {},
   "source": [
    "# Visualize"
   ]
  },
  {
   "cell_type": "code",
   "execution_count": null,
   "metadata": {},
   "outputs": [],
   "source": [
    "#change weights of PCs\n",
    "PCs = np.zeros((count,pca.n_components_))\n",
    "VTK_PC_array = []\n",
    "pc_avg_array = []\n",
    "numObjects = 70 #should be even number, increase for video resolution\n",
    "startVal = 0\n",
    "for n in range(startVal,5):\n",
    "    PCs[n] = loading_matrix.iloc[::,n].values\n",
    "    avg = np.mean(PCs[n])\n",
    "    var = 2*np.std(PCs[n]) #multiplier is num of std devs\n",
    "    rangeMin = avg - var\n",
    "    rangeMax = avg + var\n",
    "    weights = np.zeros(pca.n_components_) #all other PCs are 0\n",
    "    dx = (rangeMax - rangeMin)/numObjects\n",
    "    weightVar = np.zeros(numObjects)\n",
    "    VTK_PCs = []\n",
    "    for j in range(numObjects):\n",
    "        weights[n] = rangeMin+dx*j\n",
    "        points = np.matmul(pc,weights)\n",
    "        recDiff = np.reshape(points,np.shape(refPoints))\n",
    "    \n",
    "        varPC = vtk.vtkPolyData()\n",
    "        varPC.DeepCopy(ref)\n",
    "        for i in range(np.size(recDiff,axis=0)):\n",
    "            refCoord = np.zeros(3)\n",
    "            varPC.GetPoints().GetPoint(i,refCoord)\n",
    "            pointI = refCoord + recDiff[i]\n",
    "            varPC.GetPoints().SetPoint(i,pointI)\n",
    "        \n",
    "        VTK_PCs.append(store(varPC))\n",
    "    VTK_PC_array.append(store(VTK_PCs))\n",
    "    \n",
    "    #create average PC ref shape\n",
    "    PCs[n] = loading_matrix.iloc[::,n].values\n",
    "    avg = np.mean(PCs[n])\n",
    "    weights[n] = avg\n",
    "    points = np.matmul(pc,weights)\n",
    "    recDiff = np.reshape(points,np.shape(refPoints))\n",
    "\n",
    "    pcAvg = vtk.vtkPolyData()\n",
    "    pcAvg.DeepCopy(ref)\n",
    "    for i in range(np.size(recDiff,axis=0)):\n",
    "        refCoord = np.zeros(3)\n",
    "        pcAvg.GetPoints().GetPoint(i,refCoord)\n",
    "        pointI = refCoord + recDiff[i]\n",
    "        pcAvg.GetPoints().SetPoint(i,pointI)\n",
    "    pc_avg_array.append(store(pcAvg))\n",
    "    print(\"Stored PC #%d: dx = %s\" %((n+1), dx))\n",
    "print(\"Done\")"
   ]
  },
  {
   "cell_type": "code",
   "execution_count": null,
   "metadata": {},
   "outputs": [],
   "source": [
    "#change this number to the PC you want to look at, then run the next two cells\n",
    "PC_num = 4"
   ]
  },
  {
   "cell_type": "code",
   "execution_count": null,
   "metadata": {},
   "outputs": [],
   "source": [
    "#color change in shapes\n",
    "pcAvg = pc_avg_array[PC_num-1].number\n",
    "maxVal = 12 #decrease to increase intensity\n",
    "for j in range(numObjects):\n",
    "    folPoints = vn.vtk_to_numpy(VTK_PC_array[PC_num-1].number[j].number.GetPoints().GetData())\n",
    "    basePoints = vn.vtk_to_numpy(pcAvg.GetPoints().GetData())\n",
    "    diffPoints = folPoints - basePoints\n",
    "    dist = (diffPoints[::,0]**2+diffPoints[::,1]**2+diffPoints[::,2]**2)**0.5\n",
    "    vis.visChangeInShapes(VTK_PC_array[PC_num-1].number[j].number, pcAvg, dist, maxVal, \"white\")"
   ]
  },
  {
   "cell_type": "code",
   "execution_count": null,
   "metadata": {},
   "outputs": [],
   "source": [
    "#view first, middle, and last of PC variation\n",
    "renWin, iren = vis.createWindow()\n",
    "\n",
    "#blue is grew, red is shrunk\n",
    "camPos = (1,0,-3)\n",
    "ren = vis.createRen(renWin,0,0.33)\n",
    "vis.addActors(ren,VTK_PC_array[PC_num-1].number[0].number, pos=camPos)\n",
    "ren1 = vis.createRen(renWin,0.33,0.66)\n",
    "vis.addActors(ren1,VTK_PC_array[PC_num-1].number[int(numObjects/2)-1].number, pos=camPos)\n",
    "ren2 = vis.createRen(renWin,0.66,1)\n",
    "vis.addActors(ren2,VTK_PC_array[PC_num-1].number[numObjects-1].number, pos=camPos)\n",
    "\n",
    "\n",
    "vis.startVis(renWin,iren)"
   ]
  },
  {
   "cell_type": "code",
   "execution_count": null,
   "metadata": {},
   "outputs": [],
   "source": [
    "PC_num = 1\n",
    "#look at PC video, sometimes crashes\n",
    "class vtkTimerCallback():\n",
    "    def __init__(self):\n",
    "        self.timer_count = 0\n",
    "        self.index = 0\n",
    "        self.up = 1\n",
    "        \n",
    "    def execute(self,obj,event):\n",
    "        mapper.SetInputData(VTK_PC_array[array_num].number[self.index].number)\n",
    "        actor.SetMapper(mapper)\n",
    "        actor.GetProperty().SetDiffuseColor(color[0],color[1],color[2])\n",
    "        iren = obj\n",
    "        iren.GetRenderWindow().Render()\n",
    "        self.timer_count += 1\n",
    "        self.index += self.up\n",
    "        if (self.index == numObjects):\n",
    "            self.up = -1\n",
    "            self.index = numObjects-1\n",
    "        elif (self.index == -1):\n",
    "            self.up = 1\n",
    "            self.index = 0\n",
    "array_num = PC_num - startVal - 1\n",
    "color = vis.getColor(\"darkGreen\")\n",
    "#Create a mapper and actor\n",
    "mapper = vtk.vtkPolyDataMapper()\n",
    "mapper.SetInputData(VTK_PC_array[array_num].number[0].number)\n",
    "actor = vtk.vtkActor()\n",
    "actor.GetProperty().SetDiffuseColor(color[0],color[1],color[2])\n",
    "actor.SetMapper(mapper)\n",
    "prop = actor.GetProperty()\n",
    "\n",
    "# Setup a renderer, render window, and interactor\n",
    "renWin, iren = vis.createWindow()\n",
    "ren = vis.createRen(renWin,0,1)\n",
    "\n",
    "#Add the actor to the scene\n",
    "ren.AddActor(actor)\n",
    "vis.addLabels(ren,\"PC number %d\" %(PC_num))\n",
    "\n",
    "# Initialize must be called prior to creating timer events.\n",
    "iren.Initialize()\n",
    "renWin.Render()\n",
    "\n",
    "# Sign up to receive TimerEvent\n",
    "cb = vtkTimerCallback()\n",
    "cb.actor = actor\n",
    "cb.color = color\n",
    "iren.AddObserver(vtk.vtkCommand.TimerEvent, cb.execute)\n",
    "cb.timerId = iren.CreateRepeatingTimer(5);\n",
    "\n",
    "#start the interaction and timer\n",
    "iren.Start()\n"
   ]
  },
  {
   "cell_type": "markdown",
   "metadata": {},
   "source": [
    "## Recreate Shapes"
   ]
  },
  {
   "cell_type": "code",
   "execution_count": null,
   "metadata": {},
   "outputs": [],
   "source": [
    "#recover all shapes\n",
    "VTK_recBase = []\n",
    "for n in range(np.size(pca.components_,axis=0)):\n",
    "    patientWeights = loading_matrix.iloc[n].values\n",
    "    points = np.matmul(pc,patientWeights)\n",
    "    recDiff = np.reshape(points,(len(refPoints),3))\n",
    "    \n",
    "    recBase = vtk.vtkPolyData()\n",
    "    recBase.DeepCopy(ref)\n",
    "    for i in range(np.size(recDiff,axis=0)):\n",
    "        refCoord = np.zeros(3)\n",
    "        recBase.GetPoints().GetPoint(i,refCoord)\n",
    "        pointI = refCoord + recDiff[i]\n",
    "        recBase.GetPoints().SetPoint(i,pointI)\n",
    "    \n",
    "    VTK_recBase.append(store(recBase))"
   ]
  },
  {
   "cell_type": "code",
   "execution_count": null,
   "metadata": {},
   "outputs": [],
   "source": [
    "renWin, iren = vis.createWindow()\n",
    "ren = vis.createRen(renWin,0.25,0.75)\n",
    "#vis.addActors(ren,VTK_PC_array[0].number[0].number,vis.getColor(\"yellow\"),0.9)\n",
    "vis.addActors(ren,VTK_PC_array[0].number[69].number,vis.getColor(\"yellow\"),0.9)\n",
    "vis.addActors(ren,ref, vis.getColor(\"blue\"), 0.9)\n",
    "    \n",
    "vis.startVis(renWin,iren)"
   ]
  },
  {
   "cell_type": "code",
   "execution_count": null,
   "metadata": {},
   "outputs": [],
   "source": [
    "#check that the reconstruction worked\n",
    "for i in range(1):\n",
    "    renWin, iren = vis.createWindow()\n",
    "    ren = vis.createRen(renWin,0.25,0.75)\n",
    "    vis.addActors(ren,VTK_recBase[i].number,vis.getColor(\"yellow\"),0.6)\n",
    "    vis.addActors(ren,VTK_base[i].number,vis.getColor(\"blue\"),0.6)\n",
    "    vis.addLabels(ren,\"Patient number: %s\" %patientNum[i])\n",
    "    \n",
    "    vis.startVis(renWin,iren)"
   ]
  },
  {
   "cell_type": "code",
   "execution_count": null,
   "metadata": {},
   "outputs": [],
   "source": [
    "i=0\n",
    "renWin, iren = vis.createWindow()\n",
    "ren = vis.createRen(renWin,0,0.33)\n",
    "vis.addActors(ren,VTK_recBase[i].number,[1,0,0],1)\n",
    "vis.addLabels(ren,\"Re-constructed shape\")\n",
    "\n",
    "ren2 = vis.createRen(renWin,0.33,0.66)\n",
    "vis.addActors(ren2,VTK_base[i].number,[0,1,1],1)\n",
    "vis.addLabels(ren2,\"Original shape\")\n",
    "\n",
    "ren3 = vis.createRen(renWin,0.66,1)\n",
    "vis.addActors(ren3,VTK_recBase[i].number,[1,0,0],0.9)\n",
    "vis.addActors(ren3,VTK_base[i].number,[0,1,1],0.9)\n",
    "vis.addLabels(ren3,\"Overlay\")\n",
    "    \n",
    "vis.startVis(renWin,iren)"
   ]
  }
 ],
 "metadata": {
  "kernelspec": {
   "display_name": "Python 3",
   "language": "python",
   "name": "python3"
  },
  "language_info": {
   "codemirror_mode": {
    "name": "ipython",
    "version": 3
   },
   "file_extension": ".py",
   "mimetype": "text/x-python",
   "name": "python",
   "nbconvert_exporter": "python",
   "pygments_lexer": "ipython3",
   "version": "3.7.6"
  }
 },
 "nbformat": 4,
 "nbformat_minor": 4
}
